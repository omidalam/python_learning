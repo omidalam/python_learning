{
 "cells": [
  {
   "cell_type": "markdown",
   "metadata": {},
   "source": [
    "This document does the following:\n",
    "\n",
    "- Opens the wig file.\n",
    "- Read lines fromt the top of the file.\n",
    "- Check if the the  ratios are above a certain threshold (e.g. 10).\n",
    "- Prints all the scaffolds that are above a certain threshold.\n",
    "    - And the maximum ratio in the scaffold.\n",
    "- Prints the scaffold with the maximum ratio."
   ]
  },
  {
   "cell_type": "code",
   "execution_count": 3,
   "metadata": {
    "collapsed": true
   },
   "outputs": [],
   "source": [
    "first_line = 'track type=wiggle_0 name=AO3.sr.30kb_bin.wig autoScale=on\\n'"
   ]
  },
  {
   "cell_type": "code",
   "execution_count": 4,
   "metadata": {
    "collapsed": true
   },
   "outputs": [],
   "source": [
    "file_name = 'AO3.sr.30kb_bin.wig.txt'"
   ]
  },
  {
   "cell_type": "code",
   "execution_count": 5,
   "metadata": {
    "collapsed": true
   },
   "outputs": [],
   "source": [
    "input_file = open(file=file_name,mode= 'rt')"
   ]
  },
  {
   "cell_type": "code",
   "execution_count": 6,
   "metadata": {
    "collapsed": true
   },
   "outputs": [],
   "source": [
    "max_overal = 0 # Initiate the variable for storing the global maximum of ratio\n",
    "max_scaf = 0 #Initiate the variable for storing max ratio for each sacff\n",
    "threshold = 10 # threshold value for amplification"
   ]
  },
  {
   "cell_type": "code",
   "execution_count": 7,
   "metadata": {},
   "outputs": [
    {
     "name": "stdout",
     "output_type": "stream",
     "text": [
      "This is just the beginning!\n",
      "fixedStep chrom=KE376772 start=1 span=30000 step=3000\n",
      "16.764\n",
      "fixedStep chrom=KE376797 start=1 span=30000 step=3000\n",
      "11.882\n",
      "fixedStep chrom=KE376868 start=1 span=30000 step=3000\n",
      "12.274\n",
      "fixedStep chrom=KE378848 start=1 span=30000 step=3000\n",
      "10.601\n",
      "fixedStep chrom=KE379197 start=1 span=30000 step=3000\n",
      "10.687\n",
      "fixedStep chrom=KE379312 start=1 span=30000 step=3000\n",
      "10.215\n",
      "fixedStep chrom=KE379473 start=1 span=30000 step=3000\n",
      "13.989\n",
      "fixedStep chrom=KE379584 start=1 span=30000 step=3000\n",
      "15.554\n",
      "fixedStep chrom=KE379729 start=1 span=30000 step=3000\n",
      "13.56\n",
      "fixedStep chrom=KE379886 start=1 span=30000 step=3000\n",
      "11.38\n",
      "fixedStep chrom=KE380355 start=1 span=30000 step=3000\n",
      "10.293\n",
      "fixedStep chrom=KE380434 start=1 span=30000 step=3000\n",
      "11.876\n",
      "fixedStep chrom=KE380575 start=1 span=30000 step=3000\n",
      "11.871\n",
      "fixedStep chrom=KE380745 start=1 span=30000 step=3000\n",
      "13.09\n",
      "fixedStep chrom=KE380880 start=1 span=30000 step=3000\n",
      "12.326\n",
      "fixedStep chrom=KE380885 start=1 span=30000 step=3000\n",
      "10.124\n",
      "fixedStep chrom=KE380953 start=1 span=30000 step=3000\n",
      "10.7\n",
      "fixedStep chrom=KE381288 start=1 span=30000 step=3000\n",
      "13.954\n",
      "fixedStep chrom=KE381428 start=1 span=30000 step=3000\n",
      "11.263\n",
      "fixedStep chrom=KE381497 start=1 span=30000 step=3000\n",
      "14.136\n",
      "fixedStep chrom=KE381641 start=1 span=30000 step=3000\n",
      "11.861\n",
      "fixedStep chrom=KE381732 start=1 span=30000 step=3000\n",
      "38.474\n",
      "fixedStep chrom=KE382060 start=1 span=30000 step=3000\n",
      "15.79\n",
      "fixedStep chrom=KE382712 start=1 span=30000 step=3000\n",
      "14.268\n",
      "This is the file end\n"
     ]
    }
   ],
   "source": [
    "while True:\n",
    "    line= input_file.readline() # reads on line at time\n",
    "    if line == first_line: # checks the first line\n",
    "        print('This is just the beginning!')\n",
    "    elif line =='': #EOF conditional\n",
    "        print('This is the file end')\n",
    "        break\n",
    "    elif line[0:9]=='fixedStep': #A new scaffold has been found\n",
    "        #the first 10 characters of all scaffold identifiers is 'fixedStep'\n",
    "        if max_scaf > threshold: # checks if a threshold has been reached\n",
    "            # prints the information about the previous scaffold \n",
    "            print (latest_scaf_name)\n",
    "            print (max_scaf)\n",
    "        latest_scaf_name = line[:-2] # update the scaffold name and remove the last two character\n",
    "        max_scaf = 0 #reset the max ratio for scaffold to 0\n",
    "    else: # If it is not scaffold or the begining line, then is a number.\n",
    "        latest_num= float(line) #convert string to float\n",
    "        if latest_num > max_scaf: #Checks if the number is a maximum for the scaffold \n",
    "            max_scaf = latest_num #updates the max\n",
    "        if latest_num >= max_overal: #checks if the new number is a new global max.\n",
    "            max_overall_scaf_name = latest_scaf_name #saves the scaffold name\n",
    "            max_overal=latest_num # \n",
    " "
   ]
  },
  {
   "cell_type": "code",
   "execution_count": 8,
   "metadata": {},
   "outputs": [
    {
     "name": "stdout",
     "output_type": "stream",
     "text": [
      "The scaffold with the most amplification is:\n",
      "fixedStep chrom=KE381732 start=1 span=30000 step=3000\n",
      "38.474\n"
     ]
    }
   ],
   "source": [
    "print('The scaffold with the most amplification is:')\n",
    "print(max_overall_scaf_name)\n",
    "print(max_overal)"
   ]
  },
  {
   "cell_type": "code",
   "execution_count": 5,
   "metadata": {},
   "outputs": [],
   "source": [
    "a= 5\n",
    "def f():\n",
    "    print (a)\n",
    "    a=1\n",
    "    print (a)\n",
    "\n"
   ]
  },
  {
   "cell_type": "code",
   "execution_count": 6,
   "metadata": {},
   "outputs": [
    {
     "ename": "UnboundLocalError",
     "evalue": "local variable 'a' referenced before assignment",
     "output_type": "error",
     "traceback": [
      "\u001b[0;31m---------------------------------------------------------------------------\u001b[0m",
      "\u001b[0;31mUnboundLocalError\u001b[0m                         Traceback (most recent call last)",
      "\u001b[0;32m<ipython-input-6-0ec059b9bfe1>\u001b[0m in \u001b[0;36m<module>\u001b[0;34m()\u001b[0m\n\u001b[0;32m----> 1\u001b[0;31m \u001b[0mf\u001b[0m\u001b[0;34m(\u001b[0m\u001b[0;34m)\u001b[0m\u001b[0;34m\u001b[0m\u001b[0m\n\u001b[0m",
      "\u001b[0;32m<ipython-input-5-0744d853abae>\u001b[0m in \u001b[0;36mf\u001b[0;34m()\u001b[0m\n\u001b[1;32m      1\u001b[0m \u001b[0ma\u001b[0m\u001b[0;34m=\u001b[0m \u001b[0;36m5\u001b[0m\u001b[0;34m\u001b[0m\u001b[0m\n\u001b[1;32m      2\u001b[0m \u001b[0;32mdef\u001b[0m \u001b[0mf\u001b[0m\u001b[0;34m(\u001b[0m\u001b[0;34m)\u001b[0m\u001b[0;34m:\u001b[0m\u001b[0;34m\u001b[0m\u001b[0m\n\u001b[0;32m----> 3\u001b[0;31m     \u001b[0mprint\u001b[0m\u001b[0;34m(\u001b[0m\u001b[0ma\u001b[0m\u001b[0;34m)\u001b[0m\u001b[0;34m\u001b[0m\u001b[0m\n\u001b[0m\u001b[1;32m      4\u001b[0m     \u001b[0ma\u001b[0m\u001b[0;34m=\u001b[0m\u001b[0;36m1\u001b[0m\u001b[0;34m\u001b[0m\u001b[0m\n\u001b[1;32m      5\u001b[0m     \u001b[0mprint\u001b[0m \u001b[0;34m(\u001b[0m\u001b[0ma\u001b[0m\u001b[0;34m)\u001b[0m\u001b[0;34m\u001b[0m\u001b[0m\n",
      "\u001b[0;31mUnboundLocalError\u001b[0m: local variable 'a' referenced before assignment"
     ]
    }
   ],
   "source": [
    "f()"
   ]
  },
  {
   "cell_type": "code",
   "execution_count": null,
   "metadata": {
    "collapsed": true
   },
   "outputs": [],
   "source": []
  }
 ],
 "metadata": {
  "kernelspec": {
   "display_name": "Python 3",
   "language": "python",
   "name": "python3"
  },
  "language_info": {
   "codemirror_mode": {
    "name": "ipython",
    "version": 3
   },
   "file_extension": ".py",
   "mimetype": "text/x-python",
   "name": "python",
   "nbconvert_exporter": "python",
   "pygments_lexer": "ipython3",
   "version": "3.6.3"
  }
 },
 "nbformat": 4,
 "nbformat_minor": 2
}
